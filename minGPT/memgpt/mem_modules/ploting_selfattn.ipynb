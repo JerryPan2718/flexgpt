{
 "cells": [
  {
   "cell_type": "code",
   "execution_count": 1,
   "id": "83323b7e",
   "metadata": {},
   "outputs": [
    {
     "data": {
      "text/html": [
       "<div>\n",
       "<style scoped>\n",
       "    .dataframe tbody tr th:only-of-type {\n",
       "        vertical-align: middle;\n",
       "    }\n",
       "\n",
       "    .dataframe tbody tr th {\n",
       "        vertical-align: top;\n",
       "    }\n",
       "\n",
       "    .dataframe thead th {\n",
       "        text-align: right;\n",
       "    }\n",
       "</style>\n",
       "<table border=\"1\" class=\"dataframe\">\n",
       "  <thead>\n",
       "    <tr style=\"text-align: right;\">\n",
       "      <th></th>\n",
       "      <th>Unnamed: 0</th>\n",
       "      <th>Tc=128 Tg=128 cache_length=0</th>\n",
       "      <th>Tc=128 Tg=128 cache_length=32.0</th>\n",
       "      <th>Tc=128 Tg=128 cache_length=64.0</th>\n",
       "      <th>Tc=128 Tg=128 cache_length=96.0</th>\n",
       "      <th>Tc=128 Tg=128 cache_length=128</th>\n",
       "      <th>Tc=256 Tg=256 cache_length=0</th>\n",
       "      <th>Tc=256 Tg=256 cache_length=64.0</th>\n",
       "      <th>Tc=256 Tg=256 cache_length=128.0</th>\n",
       "      <th>Tc=256 Tg=256 cache_length=192.0</th>\n",
       "      <th>Tc=256 Tg=256 cache_length=256</th>\n",
       "      <th>Tc=512 Tg=512 cache_length=0</th>\n",
       "      <th>Tc=512 Tg=512 cache_length=128.0</th>\n",
       "      <th>Tc=512 Tg=512 cache_length=256.0</th>\n",
       "      <th>Tc=512 Tg=512 cache_length=384.0</th>\n",
       "      <th>Tc=512 Tg=512 cache_length=512</th>\n",
       "    </tr>\n",
       "  </thead>\n",
       "  <tbody>\n",
       "    <tr>\n",
       "      <th>0</th>\n",
       "      <td>runtime_mean(ms)</td>\n",
       "      <td>249.943</td>\n",
       "      <td>241.303</td>\n",
       "      <td>223.479</td>\n",
       "      <td>201.768</td>\n",
       "      <td>174.135</td>\n",
       "      <td>1131.018</td>\n",
       "      <td>1062.815</td>\n",
       "      <td>967.842</td>\n",
       "      <td>848.649</td>\n",
       "      <td>710.977</td>\n",
       "      <td>6347.101</td>\n",
       "      <td>5997.022</td>\n",
       "      <td>5524.274</td>\n",
       "      <td>4937.463</td>\n",
       "      <td>4233.848</td>\n",
       "    </tr>\n",
       "    <tr>\n",
       "      <th>1</th>\n",
       "      <td>runtime_std(ms)</td>\n",
       "      <td>0.332</td>\n",
       "      <td>0.529</td>\n",
       "      <td>0.364</td>\n",
       "      <td>0.622</td>\n",
       "      <td>0.378</td>\n",
       "      <td>0.749</td>\n",
       "      <td>1.041</td>\n",
       "      <td>0.868</td>\n",
       "      <td>0.723</td>\n",
       "      <td>1.115</td>\n",
       "      <td>2.614</td>\n",
       "      <td>0.925</td>\n",
       "      <td>1.815</td>\n",
       "      <td>1.679</td>\n",
       "      <td>0.955</td>\n",
       "    </tr>\n",
       "    <tr>\n",
       "      <th>2</th>\n",
       "      <td>mem_mean(MB)</td>\n",
       "      <td>223.763</td>\n",
       "      <td>324.213</td>\n",
       "      <td>424.728</td>\n",
       "      <td>525.308</td>\n",
       "      <td>625.989</td>\n",
       "      <td>374.756</td>\n",
       "      <td>677.009</td>\n",
       "      <td>979.024</td>\n",
       "      <td>1280.847</td>\n",
       "      <td>1584.079</td>\n",
       "      <td>853.440</td>\n",
       "      <td>1858.358</td>\n",
       "      <td>2863.188</td>\n",
       "      <td>3868.052</td>\n",
       "      <td>4872.990</td>\n",
       "    </tr>\n",
       "    <tr>\n",
       "      <th>3</th>\n",
       "      <td>mem_std(MB)</td>\n",
       "      <td>21.945</td>\n",
       "      <td>21.704</td>\n",
       "      <td>21.760</td>\n",
       "      <td>21.880</td>\n",
       "      <td>21.939</td>\n",
       "      <td>65.530</td>\n",
       "      <td>65.560</td>\n",
       "      <td>65.541</td>\n",
       "      <td>65.584</td>\n",
       "      <td>65.595</td>\n",
       "      <td>218.335</td>\n",
       "      <td>218.437</td>\n",
       "      <td>218.361</td>\n",
       "      <td>218.372</td>\n",
       "      <td>218.529</td>\n",
       "    </tr>\n",
       "  </tbody>\n",
       "</table>\n",
       "</div>"
      ],
      "text/plain": [
       "         Unnamed: 0  Tc=128 Tg=128 cache_length=0  \\\n",
       "0  runtime_mean(ms)                       249.943   \n",
       "1   runtime_std(ms)                         0.332   \n",
       "2      mem_mean(MB)                       223.763   \n",
       "3       mem_std(MB)                        21.945   \n",
       "\n",
       "   Tc=128 Tg=128 cache_length=32.0  Tc=128 Tg=128 cache_length=64.0  \\\n",
       "0                          241.303                          223.479   \n",
       "1                            0.529                            0.364   \n",
       "2                          324.213                          424.728   \n",
       "3                           21.704                           21.760   \n",
       "\n",
       "   Tc=128 Tg=128 cache_length=96.0  Tc=128 Tg=128 cache_length=128  \\\n",
       "0                          201.768                         174.135   \n",
       "1                            0.622                           0.378   \n",
       "2                          525.308                         625.989   \n",
       "3                           21.880                          21.939   \n",
       "\n",
       "   Tc=256 Tg=256 cache_length=0  Tc=256 Tg=256 cache_length=64.0  \\\n",
       "0                      1131.018                         1062.815   \n",
       "1                         0.749                            1.041   \n",
       "2                       374.756                          677.009   \n",
       "3                        65.530                           65.560   \n",
       "\n",
       "   Tc=256 Tg=256 cache_length=128.0  Tc=256 Tg=256 cache_length=192.0  \\\n",
       "0                           967.842                           848.649   \n",
       "1                             0.868                             0.723   \n",
       "2                           979.024                          1280.847   \n",
       "3                            65.541                            65.584   \n",
       "\n",
       "   Tc=256 Tg=256 cache_length=256  Tc=512 Tg=512 cache_length=0  \\\n",
       "0                         710.977                      6347.101   \n",
       "1                           1.115                         2.614   \n",
       "2                        1584.079                       853.440   \n",
       "3                          65.595                       218.335   \n",
       "\n",
       "   Tc=512 Tg=512 cache_length=128.0  Tc=512 Tg=512 cache_length=256.0  \\\n",
       "0                          5997.022                          5524.274   \n",
       "1                             0.925                             1.815   \n",
       "2                          1858.358                          2863.188   \n",
       "3                           218.437                           218.361   \n",
       "\n",
       "   Tc=512 Tg=512 cache_length=384.0  Tc=512 Tg=512 cache_length=512  \n",
       "0                          4937.463                        4233.848  \n",
       "1                             1.679                           0.955  \n",
       "2                          3868.052                        4872.990  \n",
       "3                           218.372                         218.529  "
      ]
     },
     "execution_count": 1,
     "metadata": {},
     "output_type": "execute_result"
    }
   ],
   "source": [
    "import pandas as pd\n",
    "import matplotlib.pyplot as plt\n",
    "import numpy as np\n",
    "df = pd.read_csv(\"mem_selfattn.csv\")\n",
    "df"
   ]
  },
  {
   "cell_type": "code",
   "execution_count": 13,
   "id": "4e51195a",
   "metadata": {
    "scrolled": true
   },
   "outputs": [
    {
     "data": {
      "image/png": "[encoded data removed]",
      "text/plain": [
       "<Figure size 432x288 with 1 Axes>"
      ]
     },
     "metadata": {
      "needs_background": "light"
     },
     "output_type": "display_data"
    }
   ],
   "source": [
    "x = df.iloc[2, :].tolist()[1:]\n",
    "y = df.iloc[0, :].tolist()[1:]\n",
    "\n",
    "\n",
    "plt.scatter(x[0:5], y[0:5], s=10, label=\"Tc=128 Tg=128\")\n",
    "plt.plot(x[0:5], y[0:5])\n",
    "plt.scatter(x[5:10], y[5:10], s=10, label=\"Tc=256 Tg=256\")\n",
    "plt.plot(x[5:1], y[0:])\n",
    "plt.scatter(x[10:15], y[10:15], s=10, label=\"Tc=512 Tg=512\")\n",
    "plt.plot(x[0:5], y[0:5])\n",
    "plt.legend(loc=\"lower right\");\n",
    "plt.xlabel(\"mem_mean (MB)\");\n",
    "plt.ylabel(\"runtime_mean (ms)\");\n",
    "plt.title(\"mem_selfattn tradeoff between runtime and memory usage\");"
   ]
  },
  {
   "cell_type": "code",
   "execution_count": null,
   "id": "6c47e5d7",
   "metadata": {},
   "outputs": [],
   "source": []
  },
  {
   "cell_type": "code",
   "execution_count": null,
   "id": "d18afabf",
   "metadata": {},
   "outputs": [],
   "source": []
  }
 ],
 "metadata": {
  "kernelspec": {
   "display_name": "Python 3 (ipykernel)",
   "language": "python",
   "name": "python3"
  },
  "language_info": {
   "codemirror_mode": {
    "name": "ipython",
    "version": 3
   },
   "file_extension": ".py",
   "mimetype": "text/x-python",
   "name": "python",
   "nbconvert_exporter": "python",
   "pygments_lexer": "ipython3",
   "version": "3.9.5"
  },
  "varInspector": {
   "cols": {
    "lenName": 16,
    "lenType": 16,
    "lenVar": 40
   },
   "kernels_config": {
    "python": {
     "delete_cmd_postfix": "",
     "delete_cmd_prefix": "del ",
     "library": "var_list.py",
     "varRefreshCmd": "print(var_dic_list())"
    },
    "r": {
     "delete_cmd_postfix": ") ",
     "delete_cmd_prefix": "rm(",
     "library": "var_list.r",
     "varRefreshCmd": "cat(var_dic_list()) "
    }
   },
   "types_to_exclude": [
    "module",
    "function",
    "builtin_function_or_method",
    "instance",
    "_Feature"
   ],
   "window_display": false
  }
 },
 "nbformat": 4,
 "nbformat_minor": 5
}
