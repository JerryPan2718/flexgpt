{
 "cells": [
  {
   "cell_type": "code",
   "execution_count": 7,
   "id": "83323b7e",
   "metadata": {},
   "outputs": [
    {
     "data": {
      "text/html": [
       "<div>\n",
       "<style scoped>\n",
       "    .dataframe tbody tr th:only-of-type {\n",
       "        vertical-align: middle;\n",
       "    }\n",
       "\n",
       "    .dataframe tbody tr th {\n",
       "        vertical-align: top;\n",
       "    }\n",
       "\n",
       "    .dataframe thead th {\n",
       "        text-align: right;\n",
       "    }\n",
       "</style>\n",
       "<table border=\"1\" class=\"dataframe\">\n",
       "  <thead>\n",
       "    <tr style=\"text-align: right;\">\n",
       "      <th></th>\n",
       "      <th>Unnamed: 0</th>\n",
       "      <th>Tc=128 Tg=128 cache_length=0</th>\n",
       "      <th>Tc=128 Tg=128 cache_length=32.0</th>\n",
       "      <th>Tc=128 Tg=128 cache_length=64.0</th>\n",
       "      <th>Tc=128 Tg=128 cache_length=96.0</th>\n",
       "      <th>Tc=128 Tg=128 cache_length=128</th>\n",
       "      <th>Tc=256 Tg=256 cache_length=0</th>\n",
       "      <th>Tc=256 Tg=256 cache_length=64.0</th>\n",
       "      <th>Tc=256 Tg=256 cache_length=128.0</th>\n",
       "      <th>Tc=256 Tg=256 cache_length=192.0</th>\n",
       "      <th>Tc=256 Tg=256 cache_length=256</th>\n",
       "      <th>Tc=512 Tg=512 cache_length=0</th>\n",
       "      <th>Tc=512 Tg=512 cache_length=128.0</th>\n",
       "      <th>Tc=512 Tg=512 cache_length=256.0</th>\n",
       "      <th>Tc=512 Tg=512 cache_length=384.0</th>\n",
       "      <th>Tc=512 Tg=512 cache_length=512</th>\n",
       "    </tr>\n",
       "  </thead>\n",
       "  <tbody>\n",
       "    <tr>\n",
       "      <th>0</th>\n",
       "      <td>runtime_mean(ms)</td>\n",
       "      <td>569.776377</td>\n",
       "      <td>490.200701</td>\n",
       "      <td>482.333706</td>\n",
       "      <td>472.160000</td>\n",
       "      <td>454.445711</td>\n",
       "      <td>1382.662659</td>\n",
       "      <td>1326.108902</td>\n",
       "      <td>1245.138664</td>\n",
       "      <td>1142.684029</td>\n",
       "      <td>1015.266815</td>\n",
       "      <td>6635.207642</td>\n",
       "      <td>6300.206055</td>\n",
       "      <td>5862.091675</td>\n",
       "      <td>5291.153931</td>\n",
       "      <td>4614.118164</td>\n",
       "    </tr>\n",
       "    <tr>\n",
       "      <th>1</th>\n",
       "      <td>runtime_std(ms)</td>\n",
       "      <td>851.421456</td>\n",
       "      <td>612.738285</td>\n",
       "      <td>629.745407</td>\n",
       "      <td>650.235546</td>\n",
       "      <td>664.137337</td>\n",
       "      <td>625.944724</td>\n",
       "      <td>645.381926</td>\n",
       "      <td>659.569387</td>\n",
       "      <td>678.019570</td>\n",
       "      <td>690.106947</td>\n",
       "      <td>658.338206</td>\n",
       "      <td>680.466933</td>\n",
       "      <td>717.234803</td>\n",
       "      <td>729.166699</td>\n",
       "      <td>764.389968</td>\n",
       "    </tr>\n",
       "    <tr>\n",
       "      <th>2</th>\n",
       "      <td>mem_mean(MB)</td>\n",
       "      <td>223.762992</td>\n",
       "      <td>324.359848</td>\n",
       "      <td>424.837424</td>\n",
       "      <td>525.437696</td>\n",
       "      <td>626.192864</td>\n",
       "      <td>374.180044</td>\n",
       "      <td>676.018112</td>\n",
       "      <td>978.790500</td>\n",
       "      <td>1280.548340</td>\n",
       "      <td>1582.349768</td>\n",
       "      <td>854.023894</td>\n",
       "      <td>1859.522636</td>\n",
       "      <td>2863.749572</td>\n",
       "      <td>3869.260898</td>\n",
       "      <td>4873.493602</td>\n",
       "    </tr>\n",
       "    <tr>\n",
       "      <th>3</th>\n",
       "      <td>mem_std(MB)</td>\n",
       "      <td>21.944949</td>\n",
       "      <td>21.727641</td>\n",
       "      <td>21.826133</td>\n",
       "      <td>21.894930</td>\n",
       "      <td>21.957857</td>\n",
       "      <td>65.553250</td>\n",
       "      <td>65.515424</td>\n",
       "      <td>65.642239</td>\n",
       "      <td>65.552075</td>\n",
       "      <td>65.551556</td>\n",
       "      <td>218.341554</td>\n",
       "      <td>218.393943</td>\n",
       "      <td>218.376175</td>\n",
       "      <td>218.400342</td>\n",
       "      <td>218.345812</td>\n",
       "    </tr>\n",
       "  </tbody>\n",
       "</table>\n",
       "</div>"
      ],
      "text/plain": [
       "         Unnamed: 0  Tc=128 Tg=128 cache_length=0  \\\n",
       "0  runtime_mean(ms)                    569.776377   \n",
       "1   runtime_std(ms)                    851.421456   \n",
       "2      mem_mean(MB)                    223.762992   \n",
       "3       mem_std(MB)                     21.944949   \n",
       "\n",
       "   Tc=128 Tg=128 cache_length=32.0  Tc=128 Tg=128 cache_length=64.0  \\\n",
       "0                       490.200701                       482.333706   \n",
       "1                       612.738285                       629.745407   \n",
       "2                       324.359848                       424.837424   \n",
       "3                        21.727641                        21.826133   \n",
       "\n",
       "   Tc=128 Tg=128 cache_length=96.0  Tc=128 Tg=128 cache_length=128  \\\n",
       "0                       472.160000                      454.445711   \n",
       "1                       650.235546                      664.137337   \n",
       "2                       525.437696                      626.192864   \n",
       "3                        21.894930                       21.957857   \n",
       "\n",
       "   Tc=256 Tg=256 cache_length=0  Tc=256 Tg=256 cache_length=64.0  \\\n",
       "0                   1382.662659                      1326.108902   \n",
       "1                    625.944724                       645.381926   \n",
       "2                    374.180044                       676.018112   \n",
       "3                     65.553250                        65.515424   \n",
       "\n",
       "   Tc=256 Tg=256 cache_length=128.0  Tc=256 Tg=256 cache_length=192.0  \\\n",
       "0                       1245.138664                       1142.684029   \n",
       "1                        659.569387                        678.019570   \n",
       "2                        978.790500                       1280.548340   \n",
       "3                         65.642239                         65.552075   \n",
       "\n",
       "   Tc=256 Tg=256 cache_length=256  Tc=512 Tg=512 cache_length=0  \\\n",
       "0                     1015.266815                   6635.207642   \n",
       "1                      690.106947                    658.338206   \n",
       "2                     1582.349768                    854.023894   \n",
       "3                       65.551556                    218.341554   \n",
       "\n",
       "   Tc=512 Tg=512 cache_length=128.0  Tc=512 Tg=512 cache_length=256.0  \\\n",
       "0                       6300.206055                       5862.091675   \n",
       "1                        680.466933                        717.234803   \n",
       "2                       1859.522636                       2863.749572   \n",
       "3                        218.393943                        218.376175   \n",
       "\n",
       "   Tc=512 Tg=512 cache_length=384.0  Tc=512 Tg=512 cache_length=512  \n",
       "0                       5291.153931                     4614.118164  \n",
       "1                        729.166699                      764.389968  \n",
       "2                       3869.260898                     4873.493602  \n",
       "3                        218.400342                      218.345812  "
      ]
     },
     "execution_count": 7,
     "metadata": {},
     "output_type": "execute_result"
    }
   ],
   "source": [
    "import pandas as pd\n",
    "import matplotlib.pyplot as plt\n",
    "import numpy as np\n",
    "df = pd.read_csv(\"mem_selfattn.csv\")\n",
    "df"
   ]
  },
  {
   "cell_type": "code",
   "execution_count": 8,
   "id": "4e51195a",
   "metadata": {
    "scrolled": true
   },
   "outputs": [
    {
     "data": {
      "image/png": "[encoded data removed]",
      "text/plain": [
       "<Figure size 432x288 with 1 Axes>"
      ]
     },
     "metadata": {
      "needs_background": "light"
     },
     "output_type": "display_data"
    }
   ],
   "source": [
    "x = df.iloc[2, :].tolist()[1:]\n",
    "y = df.iloc[0, :].tolist()[1:]\n",
    "\n",
    "\n",
    "plt.scatter(x[0:5], y[0:5], s=10, label=\"Tc=128 Tg=128\")\n",
    "plt.plot(x[0:5], y[0:5])\n",
    "plt.scatter(x[5:10], y[5:10], s=10, label=\"Tc=256 Tg=256\")\n",
    "plt.plot(x[5:10], y[5:10])\n",
    "plt.scatter(x[10:15], y[10:15], s=10, label=\"Tc=512 Tg=512\")\n",
    "plt.plot(x[10:15], y[10:15])\n",
    "plt.legend(loc=\"lower right\");\n",
    "plt.xlabel(\"mem_mean (MB)\");\n",
    "plt.ylabel(\"runtime_mean (ms)\");\n",
    "plt.title(\"mem_selfattn tradeoff between runtime and memory usage\");"
   ]
  },
  {
   "cell_type": "code",
   "execution_count": 9,
   "id": "6c47e5d7",
   "metadata": {},
   "outputs": [
    {
     "data": {
      "image/png": "[encoded data removed]",
      "text/plain": [
       "<Figure size 432x288 with 1 Axes>"
      ]
     },
     "metadata": {
      "needs_background": "light"
     },
     "output_type": "display_data"
    }
   ],
   "source": [
    "x = df.iloc[2, :].tolist()[1:]\n",
    "y = df.iloc[0, :].tolist()[1:]\n",
    "\n",
    "\n",
    "plt.scatter(x[0:5], y[0] / y[0:5], s=10, label=\"Tc=128 Tg=128\")\n",
    "plt.plot(x[0:5], y[0] / y[0:5])\n",
    "plt.scatter(x[5:10], y[5] / y[5:10], s=10, label=\"Tc=256 Tg=256\")\n",
    "plt.plot(x[5:10], y[5] / y[5:10])\n",
    "plt.scatter(x[10:15], y[10] / y[10:15], s=10, label=\"Tc=512 Tg=512\")\n",
    "plt.plot(x[10:15], y[10] / y[10:15] )\n",
    "plt.legend(loc=\"lower right\");\n",
    "plt.xlabel(\"mem_mean (MB)\");\n",
    "plt.ylabel(\"speedup_mean\");\n",
    "plt.title(\"mem_selfattn tradeoff between runtime and memory usage\");"
   ]
  },
  {
   "cell_type": "code",
   "execution_count": null,
   "id": "d18afabf",
   "metadata": {},
   "outputs": [],
   "source": []
  }
 ],
 "metadata": {
  "kernelspec": {
   "display_name": "Python 3 (ipykernel)",
   "language": "python",
   "name": "python3"
  },
  "language_info": {
   "codemirror_mode": {
    "name": "ipython",
    "version": 3
   },
   "file_extension": ".py",
   "mimetype": "text/x-python",
   "name": "python",
   "nbconvert_exporter": "python",
   "pygments_lexer": "ipython3",
   "version": "3.9.5"
  },
  "varInspector": {
   "cols": {
    "lenName": 16,
    "lenType": 16,
    "lenVar": 40
   },
   "kernels_config": {
    "python": {
     "delete_cmd_postfix": "",
     "delete_cmd_prefix": "del ",
     "library": "var_list.py",
     "varRefreshCmd": "print(var_dic_list())"
    },
    "r": {
     "delete_cmd_postfix": ") ",
     "delete_cmd_prefix": "rm(",
     "library": "var_list.r",
     "varRefreshCmd": "cat(var_dic_list()) "
    }
   },
   "types_to_exclude": [
    "module",
    "function",
    "builtin_function_or_method",
    "instance",
    "_Feature"
   ],
   "window_display": false
  }
 },
 "nbformat": 4,
 "nbformat_minor": 5
}
