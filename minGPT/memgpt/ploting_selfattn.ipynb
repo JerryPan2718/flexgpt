{
 "cells": [
  {
   "cell_type": "code",
   "execution_count": 10,
   "id": "83323b7e",
   "metadata": {},
   "outputs": [
    {
     "data": {
      "text/html": [
       "<div>\n",
       "<style scoped>\n",
       "    .dataframe tbody tr th:only-of-type {\n",
       "        vertical-align: middle;\n",
       "    }\n",
       "\n",
       "    .dataframe tbody tr th {\n",
       "        vertical-align: top;\n",
       "    }\n",
       "\n",
       "    .dataframe thead th {\n",
       "        text-align: right;\n",
       "    }\n",
       "</style>\n",
       "<table border=\"1\" class=\"dataframe\">\n",
       "  <thead>\n",
       "    <tr style=\"text-align: right;\">\n",
       "      <th></th>\n",
       "      <th>Unnamed: 0</th>\n",
       "      <th>Tc=128 Tg=128 cache_length=0</th>\n",
       "      <th>Tc=128 Tg=128 cache_length=32.0</th>\n",
       "      <th>Tc=128 Tg=128 cache_length=64.0</th>\n",
       "      <th>Tc=128 Tg=128 cache_length=96.0</th>\n",
       "      <th>Tc=128 Tg=128 cache_length=128</th>\n",
       "      <th>Tc=256 Tg=256 cache_length=0</th>\n",
       "      <th>Tc=256 Tg=256 cache_length=64.0</th>\n",
       "      <th>Tc=256 Tg=256 cache_length=128.0</th>\n",
       "      <th>Tc=256 Tg=256 cache_length=192.0</th>\n",
       "      <th>Tc=256 Tg=256 cache_length=256</th>\n",
       "      <th>Tc=512 Tg=512 cache_length=0</th>\n",
       "      <th>Tc=512 Tg=512 cache_length=128.0</th>\n",
       "      <th>Tc=512 Tg=512 cache_length=256.0</th>\n",
       "      <th>Tc=512 Tg=512 cache_length=384.0</th>\n",
       "      <th>Tc=512 Tg=512 cache_length=512</th>\n",
       "    </tr>\n",
       "  </thead>\n",
       "  <tbody>\n",
       "    <tr>\n",
       "      <th>0</th>\n",
       "      <td>runtime_mean(ms)</td>\n",
       "      <td>566.606066</td>\n",
       "      <td>487.029507</td>\n",
       "      <td>478.737022</td>\n",
       "      <td>469.532408</td>\n",
       "      <td>452.573952</td>\n",
       "      <td>1377.364349</td>\n",
       "      <td>1319.243515</td>\n",
       "      <td>1243.765739</td>\n",
       "      <td>1142.803726</td>\n",
       "      <td>1019.956467</td>\n",
       "      <td>6652.898560</td>\n",
       "      <td>6330.272827</td>\n",
       "      <td>5863.148254</td>\n",
       "      <td>5295.833008</td>\n",
       "      <td>4609.151367</td>\n",
       "    </tr>\n",
       "    <tr>\n",
       "      <th>1</th>\n",
       "      <td>runtime_std(ms)</td>\n",
       "      <td>843.539055</td>\n",
       "      <td>603.671923</td>\n",
       "      <td>618.793864</td>\n",
       "      <td>638.222324</td>\n",
       "      <td>650.272542</td>\n",
       "      <td>610.726651</td>\n",
       "      <td>626.783233</td>\n",
       "      <td>650.407100</td>\n",
       "      <td>668.430164</td>\n",
       "      <td>683.782735</td>\n",
       "      <td>644.744313</td>\n",
       "      <td>663.236879</td>\n",
       "      <td>686.388784</td>\n",
       "      <td>721.955807</td>\n",
       "      <td>747.516771</td>\n",
       "    </tr>\n",
       "    <tr>\n",
       "      <th>2</th>\n",
       "      <td>mem_mean(MB)</td>\n",
       "      <td>223.762992</td>\n",
       "      <td>324.359848</td>\n",
       "      <td>424.837424</td>\n",
       "      <td>525.437696</td>\n",
       "      <td>626.192864</td>\n",
       "      <td>374.180044</td>\n",
       "      <td>676.018112</td>\n",
       "      <td>978.790500</td>\n",
       "      <td>1280.548340</td>\n",
       "      <td>1582.349768</td>\n",
       "      <td>854.023894</td>\n",
       "      <td>1859.522636</td>\n",
       "      <td>2863.749572</td>\n",
       "      <td>3869.260898</td>\n",
       "      <td>4873.493602</td>\n",
       "    </tr>\n",
       "    <tr>\n",
       "      <th>3</th>\n",
       "      <td>mem_std(MB)</td>\n",
       "      <td>21.944949</td>\n",
       "      <td>21.727641</td>\n",
       "      <td>21.826133</td>\n",
       "      <td>21.894930</td>\n",
       "      <td>21.957857</td>\n",
       "      <td>65.553250</td>\n",
       "      <td>65.515424</td>\n",
       "      <td>65.642239</td>\n",
       "      <td>65.552075</td>\n",
       "      <td>65.551556</td>\n",
       "      <td>218.341554</td>\n",
       "      <td>218.393943</td>\n",
       "      <td>218.376175</td>\n",
       "      <td>218.400342</td>\n",
       "      <td>218.345812</td>\n",
       "    </tr>\n",
       "  </tbody>\n",
       "</table>\n",
       "</div>"
      ],
      "text/plain": [
       "         Unnamed: 0  Tc=128 Tg=128 cache_length=0  \\\n",
       "0  runtime_mean(ms)                    566.606066   \n",
       "1   runtime_std(ms)                    843.539055   \n",
       "2      mem_mean(MB)                    223.762992   \n",
       "3       mem_std(MB)                     21.944949   \n",
       "\n",
       "   Tc=128 Tg=128 cache_length=32.0  Tc=128 Tg=128 cache_length=64.0  \\\n",
       "0                       487.029507                       478.737022   \n",
       "1                       603.671923                       618.793864   \n",
       "2                       324.359848                       424.837424   \n",
       "3                        21.727641                        21.826133   \n",
       "\n",
       "   Tc=128 Tg=128 cache_length=96.0  Tc=128 Tg=128 cache_length=128  \\\n",
       "0                       469.532408                      452.573952   \n",
       "1                       638.222324                      650.272542   \n",
       "2                       525.437696                      626.192864   \n",
       "3                        21.894930                       21.957857   \n",
       "\n",
       "   Tc=256 Tg=256 cache_length=0  Tc=256 Tg=256 cache_length=64.0  \\\n",
       "0                   1377.364349                      1319.243515   \n",
       "1                    610.726651                       626.783233   \n",
       "2                    374.180044                       676.018112   \n",
       "3                     65.553250                        65.515424   \n",
       "\n",
       "   Tc=256 Tg=256 cache_length=128.0  Tc=256 Tg=256 cache_length=192.0  \\\n",
       "0                       1243.765739                       1142.803726   \n",
       "1                        650.407100                        668.430164   \n",
       "2                        978.790500                       1280.548340   \n",
       "3                         65.642239                         65.552075   \n",
       "\n",
       "   Tc=256 Tg=256 cache_length=256  Tc=512 Tg=512 cache_length=0  \\\n",
       "0                     1019.956467                   6652.898560   \n",
       "1                      683.782735                    644.744313   \n",
       "2                     1582.349768                    854.023894   \n",
       "3                       65.551556                    218.341554   \n",
       "\n",
       "   Tc=512 Tg=512 cache_length=128.0  Tc=512 Tg=512 cache_length=256.0  \\\n",
       "0                       6330.272827                       5863.148254   \n",
       "1                        663.236879                        686.388784   \n",
       "2                       1859.522636                       2863.749572   \n",
       "3                        218.393943                        218.376175   \n",
       "\n",
       "   Tc=512 Tg=512 cache_length=384.0  Tc=512 Tg=512 cache_length=512  \n",
       "0                       5295.833008                     4609.151367  \n",
       "1                        721.955807                      747.516771  \n",
       "2                       3869.260898                     4873.493602  \n",
       "3                        218.400342                      218.345812  "
      ]
     },
     "execution_count": 10,
     "metadata": {},
     "output_type": "execute_result"
    }
   ],
   "source": [
    "import pandas as pd\n",
    "import matplotlib.pyplot as plt\n",
    "import numpy as np\n",
    "df = pd.read_csv(\"mem_selfattn.csv\")\n",
    "df"
   ]
  },
  {
   "cell_type": "code",
   "execution_count": 11,
   "id": "4e51195a",
   "metadata": {
    "scrolled": true
   },
   "outputs": [
    {
     "data": {
      "image/png": "[encoded data removed]",
      "text/plain": [
       "<Figure size 432x288 with 1 Axes>"
      ]
     },
     "metadata": {
      "needs_background": "light"
     },
     "output_type": "display_data"
    }
   ],
   "source": [
    "x = df.iloc[2, :].tolist()[1:]\n",
    "y = df.iloc[0, :].tolist()[1:]\n",
    "\n",
    "\n",
    "plt.scatter(x[0:5], y[0:5], s=10, label=\"Tc=128 Tg=128\")\n",
    "plt.plot(x[0:5], y[0:5])\n",
    "plt.scatter(x[5:10], y[5:10], s=10, label=\"Tc=256 Tg=256\")\n",
    "plt.plot(x[5:10], y[5:10])\n",
    "plt.scatter(x[10:15], y[10:15], s=10, label=\"Tc=512 Tg=512\")\n",
    "plt.plot(x[10:15], y[10:15])\n",
    "plt.legend(loc=\"lower right\");\n",
    "plt.xlabel(\"mem_mean (MB)\");\n",
    "plt.ylabel(\"runtime_mean (ms)\");\n",
    "plt.title(\"mem_selfattn tradeoff between runtime and memory usage\");"
   ]
  },
  {
   "cell_type": "code",
   "execution_count": 12,
   "id": "6c47e5d7",
   "metadata": {},
   "outputs": [
    {
     "data": {
      "image/png": "[encoded data removed]",
      "text/plain": [
       "<Figure size 432x288 with 1 Axes>"
      ]
     },
     "metadata": {
      "needs_background": "light"
     },
     "output_type": "display_data"
    }
   ],
   "source": [
    "x = df.iloc[2, :].tolist()[1:]\n",
    "y = df.iloc[0, :].tolist()[1:]\n",
    "\n",
    "\n",
    "plt.scatter(x[0:5], y[0] / y[0:5], s=10, label=\"Tc=128 Tg=128\")\n",
    "plt.plot(x[0:5], y[0] / y[0:5])\n",
    "plt.scatter(x[5:10], y[5] / y[5:10], s=10, label=\"Tc=256 Tg=256\")\n",
    "plt.plot(x[5:10], y[5] / y[5:10])\n",
    "plt.scatter(x[10:15], y[10] / y[10:15], s=10, label=\"Tc=512 Tg=512\")\n",
    "plt.plot(x[10:15], y[10] / y[10:15] )\n",
    "plt.legend(loc=\"lower right\");\n",
    "plt.xlabel(\"mem_mean (MB)\");\n",
    "plt.ylabel(\"speedup_mean\");\n",
    "plt.title(\"mem_selfattn tradeoff between runtime and memory usage\");"
   ]
  },
  {
   "cell_type": "code",
   "execution_count": null,
   "id": "d18afabf",
   "metadata": {},
   "outputs": [],
   "source": []
  }
 ],
 "metadata": {
  "kernelspec": {
   "display_name": "Python 3 (ipykernel)",
   "language": "python",
   "name": "python3"
  },
  "language_info": {
   "codemirror_mode": {
    "name": "ipython",
    "version": 3
   },
   "file_extension": ".py",
   "mimetype": "text/x-python",
   "name": "python",
   "nbconvert_exporter": "python",
   "pygments_lexer": "ipython3",
   "version": "3.9.5"
  },
  "varInspector": {
   "cols": {
    "lenName": 16,
    "lenType": 16,
    "lenVar": 40
   },
   "kernels_config": {
    "python": {
     "delete_cmd_postfix": "",
     "delete_cmd_prefix": "del ",
     "library": "var_list.py",
     "varRefreshCmd": "print(var_dic_list())"
    },
    "r": {
     "delete_cmd_postfix": ") ",
     "delete_cmd_prefix": "rm(",
     "library": "var_list.r",
     "varRefreshCmd": "cat(var_dic_list()) "
    }
   },
   "types_to_exclude": [
    "module",
    "function",
    "builtin_function_or_method",
    "instance",
    "_Feature"
   ],
   "window_display": false
  }
 },
 "nbformat": 4,
 "nbformat_minor": 5
}
